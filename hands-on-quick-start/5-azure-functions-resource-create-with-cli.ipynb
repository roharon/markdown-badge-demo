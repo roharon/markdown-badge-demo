{
 "cells": [
  {
   "cell_type": "code",
   "execution_count": null,
   "metadata": {},
   "outputs": [],
   "source": [
    "# Azure 에 로그인하기\n",
    "\n",
    "!az login --use-device-code"
   ]
  },
  {
   "cell_type": "code",
   "execution_count": null,
   "metadata": {},
   "outputs": [],
   "source": [
    "\n",
    "resource_group_name = 'ghBadge'\n",
    "functionapp_name = 'ghbadgeApp'\n",
    "storage_account_name = 'ghbadgestorage'\n",
    "\n",
    "!az group create --name ghBadge --location koreacentral --output table"
   ]
  },
  {
   "cell_type": "markdown",
   "metadata": {},
   "source": []
  },
  {
   "cell_type": "code",
   "execution_count": null,
   "metadata": {},
   "outputs": [],
   "source": [
    "!az functionapp create --resource-group $resource_group_name --os-type Linux --consumption-plan-location koreacentral --runtime python --runtime-version 3.11 --functions-version 4 --name $functionapp_name --os-type linux --storage-account ghbadge"
   ]
  }
 ],
 "metadata": {
  "language_info": {
   "name": "python"
  }
 },
 "nbformat": 4,
 "nbformat_minor": 2
}
