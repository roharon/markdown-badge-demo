{
 "cells": [
  {
   "cell_type": "markdown",
   "metadata": {},
   "source": [
    "Azure Functions을 이용해 깃헙 README에 내가 자주 사용한 언어를 나타내는 마크다운 배지를 만들어 봅니다.\n",
    "\n"
   ]
  },
  {
   "cell_type": "markdown",
   "metadata": {},
   "source": [
    "# "
   ]
  },
  {
   "cell_type": "code",
   "execution_count": 2,
   "metadata": {},
   "outputs": [
    {
     "name": "stdout",
     "output_type": "stream",
     "text": [
      "Python 3.11.6\n"
     ]
    }
   ],
   "source": [
    "# Python 이 설치되었는지 확인해봅시다.\n",
    "\n",
    "!python -V\n",
    "\n"
   ]
  },
  {
   "cell_type": "code",
   "execution_count": 4,
   "metadata": {},
   "outputs": [
    {
     "name": "stdout",
     "output_type": "stream",
     "text": [
      "\n",
      "Group\n",
      "    az functionapp : Manage function apps. To install the Azure Functions Core tools see\n",
      "    https://github.com/Azure/azure-functions-core-tools.\n",
      "\n",
      "Subgroups:\n",
      "    config                     : Configure a function app.\n",
      "    connection                 : Commands to manage functionapp connections.\n",
      "    cors                       : Manage Cross-Origin Resource Sharing (CORS).\n",
      "    deployment                 : Manage function app deployments.\n",
      "    function                   : Manage function app functions.\n",
      "    hybrid-connection          : Methods that list, add and remove hybrid-connections from\n",
      "                                 functionapp.\n",
      "    identity                   : Manage web app's managed identity.\n",
      "    keys                       : Manage function app keys.\n",
      "    log                        : Manage function app logs.\n",
      "    plan                       : Manage App Service Plans for an Azure Function.\n",
      "    vnet-integration           : Methods that list, add, and remove virtual networks integrations\n",
      "                                 from a functionapp.\n",
      "\n",
      "Commands:\n",
      "    create                     : Create a function app.\n",
      "    delete                     : Delete a function app.\n",
      "    deploy           \u001b[36m[Preview]\u001b[0m : Deploys a provided artifact to Azure functionapp.\n",
      "    list                       : List function apps.\n",
      "    list-consumption-locations : List available locations for running function apps.\n",
      "    list-runtimes              : List available built-in stacks which can be used for function apps.\n",
      "    restart                    : Restart a function app.\n",
      "    show                       : Get the details of a function app.\n",
      "    start                      : Start a function app.\n",
      "    stop                       : Stop a function app.\n",
      "    update                     : Update a function app.\n",
      "\n",
      "To search AI knowledge base for examples, use: az find \"az functionapp\"\n",
      "\n"
     ]
    }
   ],
   "source": [
    "# azure-cli\n",
    "\n",
    "!az functionapp -h"
   ]
  },
  {
   "cell_type": "code",
   "execution_count": null,
   "metadata": {},
   "outputs": [],
   "source": []
  },
  {
   "cell_type": "markdown",
   "metadata": {},
   "source": []
  }
 ],
 "metadata": {
  "kernelspec": {
   "display_name": "Python 3",
   "language": "python",
   "name": "python3"
  },
  "language_info": {
   "codemirror_mode": {
    "name": "ipython",
    "version": 3
   },
   "file_extension": ".py",
   "mimetype": "text/x-python",
   "name": "python",
   "nbconvert_exporter": "python",
   "pygments_lexer": "ipython3",
   "version": "3.11.6"
  }
 },
 "nbformat": 4,
 "nbformat_minor": 2
}
